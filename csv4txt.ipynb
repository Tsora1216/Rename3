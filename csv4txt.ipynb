{
 "cells": [
  {
   "cell_type": "code",
   "execution_count": null,
   "metadata": {},
   "outputs": [],
   "source": [
    "import csv\n",
    "import re\n",
    "\n",
    "# 入力CSVファイル名\n",
    "input_csv_file = \"new.csv\"\n",
    "\n",
    "# CSVファイルを読み込み、ヘッダー行を取得\n",
    "with open(input_csv_file, 'r', newline='') as csvfile:\n",
    "    reader = csv.reader(csvfile)\n",
    "    header = next(reader)\n",
    "\n",
    "print(header)\n",
    "# 各ヘッダー名ごとにファイルを作成し、中身にヘッダーと一致する行を追加\n",
    "for header_name in header:\n",
    "\n",
    "    \n",
    "    # 不適切な文字を削除してファイル名を生成\n",
    "    sanitized_header_name = re.sub(r'[\\/:*?\"<>|]', '_', header_name)  # Windowsファイル名で許可されていない文字をアンダースコアに置き換える\n",
    "    output_file_name = f\"{input_csv_file.split('.')[0]}_{sanitized_header_name}.txt\"\n",
    "    \n",
    "    with open(output_file_name, 'w', newline='') as output_file:\n",
    "        #output_file.write(f\"Header: {header_name}\n",
    "\")\n",
    "        \n",
    "        # ヘッダーと一致する行をファイルに追加\n",
    "        with open(input_csv_file, 'r', newline='') as csvfile:\n",
    "            reader = csv.DictReader(csvfile)\n",
    "            for row in reader:\n",
    "                output_file.write(f\"{row[header_name]}\n",
    "\")\n",
    "\n",
    "print(\"ファイルの作成が完了しました。\")\n"
   ]
  }
 ],
 "metadata": {
  "language_info": {
   "name": "python"
  },
  "orig_nbformat": 4
 },
 "nbformat": 4,
 "nbformat_minor": 2
}
