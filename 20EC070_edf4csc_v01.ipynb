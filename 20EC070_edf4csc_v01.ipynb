{
 "cells": [
  {
   "cell_type": "code",
   "execution_count": 1,
   "metadata": {},
   "outputs": [
    {
     "ename": "FileNotFoundError",
     "evalue": "/path/to/edf_file.edf: can not open file, no such file or directory",
     "output_type": "error",
     "traceback": [
      "\u001b[1;31m---------------------------------------------------------------------------\u001b[0m",
      "\u001b[1;31mFileNotFoundError\u001b[0m                         Traceback (most recent call last)",
      "\u001b[1;32m~\\AppData\\Local\\Temp\\ipykernel_9224\\3659812023.py\u001b[0m in \u001b[0;36m<module>\u001b[1;34m\u001b[0m\n\u001b[0;32m     50\u001b[0m \u001b[1;33m\u001b[0m\u001b[0m\n\u001b[0;32m     51\u001b[0m     \u001b[1;31m# EDFデータの可視化\u001b[0m\u001b[1;33m\u001b[0m\u001b[1;33m\u001b[0m\u001b[1;33m\u001b[0m\u001b[0m\n\u001b[1;32m---> 52\u001b[1;33m     \u001b[0mplot_edf_data\u001b[0m\u001b[1;33m(\u001b[0m\u001b[0medf_file_path\u001b[0m\u001b[1;33m)\u001b[0m\u001b[1;33m\u001b[0m\u001b[1;33m\u001b[0m\u001b[0m\n\u001b[0m",
      "\u001b[1;32m~\\AppData\\Local\\Temp\\ipykernel_9224\\3659812023.py\u001b[0m in \u001b[0;36mplot_edf_data\u001b[1;34m(file_path)\u001b[0m\n\u001b[0;32m      3\u001b[0m \u001b[1;33m\u001b[0m\u001b[0m\n\u001b[0;32m      4\u001b[0m \u001b[1;32mdef\u001b[0m \u001b[0mplot_edf_data\u001b[0m\u001b[1;33m(\u001b[0m\u001b[0mfile_path\u001b[0m\u001b[1;33m)\u001b[0m\u001b[1;33m:\u001b[0m\u001b[1;33m\u001b[0m\u001b[1;33m\u001b[0m\u001b[0m\n\u001b[1;32m----> 5\u001b[1;33m     \u001b[0mf\u001b[0m \u001b[1;33m=\u001b[0m \u001b[0mpyedflib\u001b[0m\u001b[1;33m.\u001b[0m\u001b[0mEdfReader\u001b[0m\u001b[1;33m(\u001b[0m\u001b[0mfile_path\u001b[0m\u001b[1;33m)\u001b[0m\u001b[1;33m\u001b[0m\u001b[1;33m\u001b[0m\u001b[0m\n\u001b[0m\u001b[0;32m      6\u001b[0m     \u001b[0mnum_signals\u001b[0m \u001b[1;33m=\u001b[0m \u001b[0mf\u001b[0m\u001b[1;33m.\u001b[0m\u001b[0msignals_in_file\u001b[0m\u001b[1;33m\u001b[0m\u001b[1;33m\u001b[0m\u001b[0m\n\u001b[0;32m      7\u001b[0m \u001b[1;33m\u001b[0m\u001b[0m\n",
      "\u001b[1;32mpyedflib\\_extensions\\_pyedflib.pyx\u001b[0m in \u001b[0;36mpyedflib._extensions._pyedflib.CyEdfReader.__init__\u001b[1;34m()\u001b[0m\n",
      "\u001b[1;32mpyedflib\\_extensions\\_pyedflib.pyx\u001b[0m in \u001b[0;36mpyedflib._extensions._pyedflib.CyEdfReader.__init__\u001b[1;34m()\u001b[0m\n",
      "\u001b[1;32mpyedflib\\_extensions\\_pyedflib.pyx\u001b[0m in \u001b[0;36mpyedflib._extensions._pyedflib.CyEdfReader.open\u001b[1;34m()\u001b[0m\n",
      "\u001b[1;32mpyedflib\\_extensions\\_pyedflib.pyx\u001b[0m in \u001b[0;36mpyedflib._extensions._pyedflib.CyEdfReader.check_open_ok\u001b[1;34m()\u001b[0m\n",
      "\u001b[1;31mFileNotFoundError\u001b[0m: /path/to/edf_file.edf: can not open file, no such file or directory"
     ]
    }
   ],
   "source": [
    "import pyedflib\n",
    "import matplotlib.pyplot as plt\n",
    "\n",
    "def plot_edf_data(file_path):\n",
    "    f = pyedflib.EdfReader(file_path)\n",
    "    num_signals = f.signals_in_file\n",
    "\n",
    "    # 最初の信号の情報を取得\n",
    "    signal_labels = f.getSignalLabels()\n",
    "    signal_frequency = f.getSampleFrequency(0)\n",
    "    signal_duration = f.getFileDuration()\n",
    "\n",
    "    # プロットする範囲を計算\n",
    "    num_samples = int(signal_frequency * signal_duration)\n",
    "    time = [i / signal_frequency for i in range(num_samples)]\n",
    "\n",
    "    # 信号データを取得してプロット\n",
    "    plt.figure(figsize=(12, 6))\n",
    "    for i in range(num_signals):\n",
    "        signal = f.readSignal(i)\n",
    "        plt.subplot(num_signals, 1, i + 1)\n",
    "        plt.plot(time, signal)\n",
    "        plt.title(signal_labels[i])\n",
    "        plt.xlabel('Time (s)')\n",
    "        plt.ylabel('Amplitude')\n",
    "\n",
    "    plt.tight_layout()\n",
    "    plt.show()\n",
    "\n",
    "import os\n",
    "\n",
    "def find_edf_files(path):\n",
    "    edf_files = []\n",
    "    for root, dirs, files in os.walk(path):\n",
    "        for file in files:\n",
    "            if file.endswith(\".edf\"):\n",
    "                edf_files.append(os.path.join(root, file))\n",
    "    return edf_files\n",
    "\n",
    "# ディレクトリのパスを指定\n",
    "edf_data_path=\"./input/edf_data/\"\n",
    "\n",
    "# EDFファイルを検索\n",
    "edf_files = find_edf_files(edf_data_path)\n",
    "\n",
    "# 結果の出力\n",
    "for file_path in edf_files:\n",
    "    # EDFファイルのパスを指定\n",
    "    edf_file_path = \"/path/to/edf_file.edf\"\n",
    "    \n",
    "    # EDFデータの可視化\n",
    "    plot_edf_data(edf_file_path)\n"
   ]
  }
 ],
 "metadata": {
  "kernelspec": {
   "display_name": "Python 3",
   "language": "python",
   "name": "python3"
  },
  "language_info": {
   "codemirror_mode": {
    "name": "ipython",
    "version": 3
   },
   "file_extension": ".py",
   "mimetype": "text/x-python",
   "name": "python",
   "nbconvert_exporter": "python",
   "pygments_lexer": "ipython3",
   "version": "3.7.9"
  },
  "orig_nbformat": 4
 },
 "nbformat": 4,
 "nbformat_minor": 2
}
