{
 "cells": [
  {
   "cell_type": "code",
   "execution_count": null,
   "metadata": {},
   "outputs": [],
   "source": [
    "import os\n",
    "\n",
    "def find_edf_files(path):\n",
    "    edf_files = []\n",
    "    for root, dirs, files in os.walk(path):\n",
    "        for file in files:\n",
    "            if file.endswith(\".edf\"):\n",
    "                edf_files.append(os.path.join(root, file))\n",
    "    return edf_files\n",
    "\n",
    "# ディレクトリのパスを指定\n",
    "edf_data_path=\"./input/edf_data/\"\n",
    "\n",
    "# EDFファイルを検索\n",
    "edf_files = find_edf_files(edf_data_path)\n",
    "\n",
    "# 結果の出力\n",
    "for file_path in edf_files:\n",
    "    print(file_path)\n",
    "\n",
    "\n"
   ]
  }
 ],
 "metadata": {
  "language_info": {
   "name": "python"
  },
  "orig_nbformat": 4
 },
 "nbformat": 4,
 "nbformat_minor": 2
}
