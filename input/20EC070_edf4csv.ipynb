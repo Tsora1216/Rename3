{
 "cells": [
  {
   "cell_type": "code",
   "execution_count": 8,
   "metadata": {},
   "outputs": [
    {
     "name": "stdout",
     "output_type": "stream",
     "text": [
      "Requirement already satisfied: mne in c:\\users\\irsl27\\appdata\\local\\programs\\python\\python37\\lib\\site-packages (1.2.0)\n",
      "Requirement already satisfied: numpy>=1.15.4 in c:\\users\\irsl27\\appdata\\local\\programs\\python\\python37\\lib\\site-packages (from mne) (1.21.6)\n",
      "Requirement already satisfied: scipy>=1.1.0 in c:\\users\\irsl27\\appdata\\local\\programs\\python\\python37\\lib\\site-packages (from mne) (1.7.3)\n",
      "Requirement already satisfied: matplotlib in c:\\users\\irsl27\\appdata\\local\\programs\\python\\python37\\lib\\site-packages (from mne) (3.5.3)\n",
      "Requirement already satisfied: tqdm in c:\\users\\irsl27\\appdata\\local\\programs\\python\\python37\\lib\\site-packages (from mne) (4.65.0)\n",
      "Requirement already satisfied: pooch>=1.5 in c:\\users\\irsl27\\appdata\\local\\programs\\python\\python37\\lib\\site-packages (from mne) (1.7.0)\n",
      "Requirement already satisfied: decorator in c:\\users\\irsl27\\appdata\\local\\programs\\python\\python37\\lib\\site-packages (from mne) (5.1.1)\n",
      "Requirement already satisfied: packaging in c:\\users\\irsl27\\appdata\\local\\programs\\python\\python37\\lib\\site-packages (from mne) (23.1)\n",
      "Requirement already satisfied: jinja2 in c:\\users\\irsl27\\appdata\\local\\programs\\python\\python37\\lib\\site-packages (from mne) (3.1.2)\n",
      "Requirement already satisfied: platformdirs>=2.5.0 in c:\\users\\irsl27\\appdata\\local\\programs\\python\\python37\\lib\\site-packages (from pooch>=1.5->mne) (3.5.1)\n",
      "Requirement already satisfied: requests>=2.19.0 in c:\\users\\irsl27\\appdata\\local\\programs\\python\\python37\\lib\\site-packages (from pooch>=1.5->mne) (2.31.0)\n",
      "Requirement already satisfied: MarkupSafe>=2.0 in c:\\users\\irsl27\\appdata\\local\\programs\\python\\python37\\lib\\site-packages (from jinja2->mne) (2.1.2)\n",
      "Requirement already satisfied: cycler>=0.10 in c:\\users\\irsl27\\appdata\\local\\programs\\python\\python37\\lib\\site-packages (from matplotlib->mne) (0.11.0)\n",
      "Requirement already satisfied: fonttools>=4.22.0 in c:\\users\\irsl27\\appdata\\local\\programs\\python\\python37\\lib\\site-packages (from matplotlib->mne) (4.38.0)\n",
      "Requirement already satisfied: kiwisolver>=1.0.1 in c:\\users\\irsl27\\appdata\\local\\programs\\python\\python37\\lib\\site-packages (from matplotlib->mne) (1.4.4)\n",
      "Requirement already satisfied: pillow>=6.2.0 in c:\\users\\irsl27\\appdata\\local\\programs\\python\\python37\\lib\\site-packages (from matplotlib->mne) (9.5.0)\n",
      "Requirement already satisfied: pyparsing>=2.2.1 in c:\\users\\irsl27\\appdata\\local\\programs\\python\\python37\\lib\\site-packages (from matplotlib->mne) (3.0.9)\n",
      "Requirement already satisfied: python-dateutil>=2.7 in c:\\users\\irsl27\\appdata\\local\\programs\\python\\python37\\lib\\site-packages (from matplotlib->mne) (2.8.2)\n",
      "Requirement already satisfied: colorama in c:\\users\\irsl27\\appdata\\local\\programs\\python\\python37\\lib\\site-packages (from tqdm->mne) (0.4.6)\n",
      "Requirement already satisfied: typing-extensions in c:\\users\\irsl27\\appdata\\local\\programs\\python\\python37\\lib\\site-packages (from kiwisolver>=1.0.1->matplotlib->mne) (4.6.0)\n",
      "Requirement already satisfied: six>=1.5 in c:\\users\\irsl27\\appdata\\local\\programs\\python\\python37\\lib\\site-packages (from python-dateutil>=2.7->matplotlib->mne) (1.16.0)\n",
      "Requirement already satisfied: charset-normalizer<4,>=2 in c:\\users\\irsl27\\appdata\\local\\programs\\python\\python37\\lib\\site-packages (from requests>=2.19.0->pooch>=1.5->mne) (3.1.0)\n",
      "Requirement already satisfied: idna<4,>=2.5 in c:\\users\\irsl27\\appdata\\local\\programs\\python\\python37\\lib\\site-packages (from requests>=2.19.0->pooch>=1.5->mne) (3.4)\n",
      "Requirement already satisfied: urllib3<3,>=1.21.1 in c:\\users\\irsl27\\appdata\\local\\programs\\python\\python37\\lib\\site-packages (from requests>=2.19.0->pooch>=1.5->mne) (2.0.2)\n",
      "Requirement already satisfied: certifi>=2017.4.17 in c:\\users\\irsl27\\appdata\\local\\programs\\python\\python37\\lib\\site-packages (from requests>=2.19.0->pooch>=1.5->mne) (2023.5.7)\n"
     ]
    }
   ],
   "source": [
    "!pip install mne"
   ]
  },
  {
   "cell_type": "code",
   "execution_count": 1,
   "metadata": {},
   "outputs": [
    {
     "name": "stdout",
     "output_type": "stream",
     "text": [
      "Extracting EDF parameters from C:\\Users\\IRSL27\\Documents\\GitHub\\Rename3\\input\\edf_data\\02234da-Hypnogram.edf...\n",
      "EDF file detected\n",
      "Setting channel info structure...\n",
      "Creating raw.info structure...\n"
     ]
    },
    {
     "name": "stderr",
     "output_type": "stream",
     "text": [
      "c:\\Users\\IRSL27\\AppData\\Local\\Programs\\Python\\Python37\\lib\\site-packages\\TakayaSora\\SAPnet.py:162: RuntimeWarning: Header information is incorrect for record length. Default record length set to 1.\n",
      "It is possible that this file only contains annotations and no signals. In that case, please use mne.read_annotations() to load these annotations.\n",
      "  edf = mne.io.read_raw_edf(file_path)\n",
      "c:\\Users\\IRSL27\\AppData\\Local\\Programs\\Python\\Python37\\lib\\site-packages\\TakayaSora\\SAPnet.py:162: RuntimeWarning: Omitted 134 annotation(s) that were outside data range.\n",
      "  edf = mne.io.read_raw_edf(file_path)\n",
      "c:\\Users\\IRSL27\\AppData\\Local\\Programs\\Python\\Python37\\lib\\site-packages\\TakayaSora\\SAPnet.py:162: RuntimeWarning: Limited 1 annotation(s) that were expanding outside the data range.\n",
      "  edf = mne.io.read_raw_edf(file_path)\n"
     ]
    },
    {
     "ename": "ValueError",
     "evalue": "picks (NoneNone, treated as \"all\") yielded no channels, consider passing picks explicitly",
     "output_type": "error",
     "traceback": [
      "\u001b[1;31m---------------------------------------------------------------------------\u001b[0m",
      "\u001b[1;31mValueError\u001b[0m                                Traceback (most recent call last)",
      "\u001b[1;32m~\\AppData\\Local\\Temp\\ipykernel_21096\\65834712.py\u001b[0m in \u001b[0;36m<module>\u001b[1;34m\u001b[0m\n\u001b[0;32m      1\u001b[0m \u001b[1;32mimport\u001b[0m \u001b[0mTakayaSora\u001b[0m \u001b[1;32mas\u001b[0m \u001b[0msora\u001b[0m\u001b[1;33m\u001b[0m\u001b[1;33m\u001b[0m\u001b[0m\n\u001b[0;32m      2\u001b[0m \u001b[1;33m\u001b[0m\u001b[0m\n\u001b[1;32m----> 3\u001b[1;33m \u001b[0msora\u001b[0m\u001b[1;33m.\u001b[0m\u001b[0medf4csv_folder\u001b[0m\u001b[1;33m(\u001b[0m\u001b[1;34m\"C:/Users/IRSL27/Documents/GitHub/Rename3/input/edf_data/\"\u001b[0m\u001b[1;33m)\u001b[0m\u001b[1;33m\u001b[0m\u001b[1;33m\u001b[0m\u001b[0m\n\u001b[0m",
      "\u001b[1;32mc:\\Users\\IRSL27\\AppData\\Local\\Programs\\Python\\Python37\\lib\\site-packages\\TakayaSora\\SAPnet.py\u001b[0m in \u001b[0;36medf4csv_folder\u001b[1;34m(edf_folderpath)\u001b[0m\n\u001b[0;32m    162\u001b[0m         \u001b[0medf\u001b[0m \u001b[1;33m=\u001b[0m \u001b[0mmne\u001b[0m\u001b[1;33m.\u001b[0m\u001b[0mio\u001b[0m\u001b[1;33m.\u001b[0m\u001b[0mread_raw_edf\u001b[0m\u001b[1;33m(\u001b[0m\u001b[0mfile_path\u001b[0m\u001b[1;33m)\u001b[0m\u001b[1;33m\u001b[0m\u001b[1;33m\u001b[0m\u001b[0m\n\u001b[0;32m    163\u001b[0m         \u001b[0mheader\u001b[0m \u001b[1;33m=\u001b[0m \u001b[1;34m','\u001b[0m\u001b[1;33m.\u001b[0m\u001b[0mjoin\u001b[0m\u001b[1;33m(\u001b[0m\u001b[0medf\u001b[0m\u001b[1;33m.\u001b[0m\u001b[0mch_names\u001b[0m\u001b[1;33m)\u001b[0m\u001b[1;33m\u001b[0m\u001b[1;33m\u001b[0m\u001b[0m\n\u001b[1;32m--> 164\u001b[1;33m         \u001b[0mnp\u001b[0m\u001b[1;33m.\u001b[0m\u001b[0msavetxt\u001b[0m\u001b[1;33m(\u001b[0m\u001b[0mcsv_filepath\u001b[0m\u001b[1;33m,\u001b[0m \u001b[0medf\u001b[0m\u001b[1;33m.\u001b[0m\u001b[0mget_data\u001b[0m\u001b[1;33m(\u001b[0m\u001b[1;33m)\u001b[0m\u001b[1;33m.\u001b[0m\u001b[0mT\u001b[0m\u001b[1;33m,\u001b[0m \u001b[0mdelimiter\u001b[0m\u001b[1;33m=\u001b[0m\u001b[1;34m','\u001b[0m\u001b[1;33m,\u001b[0m \u001b[0mheader\u001b[0m\u001b[1;33m=\u001b[0m\u001b[0mheader\u001b[0m\u001b[1;33m)\u001b[0m\u001b[1;33m\u001b[0m\u001b[1;33m\u001b[0m\u001b[0m\n\u001b[0m",
      "\u001b[1;32m<decorator-gen-229>\u001b[0m in \u001b[0;36mget_data\u001b[1;34m(self, picks, start, stop, reject_by_annotation, return_times, units, tmin, tmax, verbose)\u001b[0m\n",
      "\u001b[1;32mc:\\Users\\IRSL27\\AppData\\Local\\Programs\\Python\\Python37\\lib\\site-packages\\mne\\io\\base.py\u001b[0m in \u001b[0;36mget_data\u001b[1;34m(self, picks, start, stop, reject_by_annotation, return_times, units, tmin, tmax, verbose)\u001b[0m\n\u001b[0;32m    824\u001b[0m                        type_name='int, None')\n\u001b[0;32m    825\u001b[0m \u001b[1;33m\u001b[0m\u001b[0m\n\u001b[1;32m--> 826\u001b[1;33m         \u001b[0mpicks\u001b[0m \u001b[1;33m=\u001b[0m \u001b[0m_picks_to_idx\u001b[0m\u001b[1;33m(\u001b[0m\u001b[0mself\u001b[0m\u001b[1;33m.\u001b[0m\u001b[0minfo\u001b[0m\u001b[1;33m,\u001b[0m \u001b[0mpicks\u001b[0m\u001b[1;33m,\u001b[0m \u001b[1;34m'all'\u001b[0m\u001b[1;33m,\u001b[0m \u001b[0mexclude\u001b[0m\u001b[1;33m=\u001b[0m\u001b[1;33m(\u001b[0m\u001b[1;33m)\u001b[0m\u001b[1;33m)\u001b[0m\u001b[1;33m\u001b[0m\u001b[1;33m\u001b[0m\u001b[0m\n\u001b[0m\u001b[0;32m    827\u001b[0m \u001b[1;33m\u001b[0m\u001b[0m\n\u001b[0;32m    828\u001b[0m         \u001b[1;31m# Get channel factors for conversion into specified unit\u001b[0m\u001b[1;33m\u001b[0m\u001b[1;33m\u001b[0m\u001b[1;33m\u001b[0m\u001b[0m\n",
      "\u001b[1;32mc:\\Users\\IRSL27\\AppData\\Local\\Programs\\Python\\Python37\\lib\\site-packages\\mne\\io\\pick.py\u001b[0m in \u001b[0;36m_picks_to_idx\u001b[1;34m(info, picks, none, exclude, allow_empty, with_ref_meg, return_kind)\u001b[0m\n\u001b[0;32m   1013\u001b[0m         picks = _picks_str_to_idx(info, picks, exclude, with_ref_meg,\n\u001b[0;32m   1014\u001b[0m                                   \u001b[0mreturn_kind\u001b[0m\u001b[1;33m,\u001b[0m \u001b[0mextra_repr\u001b[0m\u001b[1;33m,\u001b[0m \u001b[0mallow_empty\u001b[0m\u001b[1;33m,\u001b[0m\u001b[1;33m\u001b[0m\u001b[1;33m\u001b[0m\u001b[0m\n\u001b[1;32m-> 1015\u001b[1;33m                                   orig_picks)\n\u001b[0m\u001b[0;32m   1016\u001b[0m         \u001b[1;32mif\u001b[0m \u001b[0mreturn_kind\u001b[0m\u001b[1;33m:\u001b[0m\u001b[1;33m\u001b[0m\u001b[1;33m\u001b[0m\u001b[0m\n\u001b[0;32m   1017\u001b[0m             \u001b[0mpicked_ch_type_or_generic\u001b[0m \u001b[1;33m=\u001b[0m \u001b[0mpicks\u001b[0m\u001b[1;33m[\u001b[0m\u001b[1;36m1\u001b[0m\u001b[1;33m]\u001b[0m\u001b[1;33m\u001b[0m\u001b[1;33m\u001b[0m\u001b[0m\n",
      "\u001b[1;32mc:\\Users\\IRSL27\\AppData\\Local\\Programs\\Python\\Python37\\lib\\site-packages\\mne\\io\\pick.py\u001b[0m in \u001b[0;36m_picks_str_to_idx\u001b[1;34m(info, picks, exclude, with_ref_meg, return_kind, extra_repr, allow_empty, orig_picks)\u001b[0m\n\u001b[0;32m   1069\u001b[0m                 raise ValueError('picks (%s) yielded no channels, consider '\n\u001b[0;32m   1070\u001b[0m                                  \u001b[1;34m'passing picks explicitly'\u001b[0m\u001b[1;33m\u001b[0m\u001b[1;33m\u001b[0m\u001b[0m\n\u001b[1;32m-> 1071\u001b[1;33m                                  % (repr(orig_picks) + extra_repr,))\n\u001b[0m\u001b[0;32m   1072\u001b[0m \u001b[1;33m\u001b[0m\u001b[0m\n\u001b[0;32m   1073\u001b[0m     \u001b[1;31m#\u001b[0m\u001b[1;33m\u001b[0m\u001b[1;33m\u001b[0m\u001b[1;33m\u001b[0m\u001b[0m\n",
      "\u001b[1;31mValueError\u001b[0m: picks (NoneNone, treated as \"all\") yielded no channels, consider passing picks explicitly"
     ]
    }
   ],
   "source": [
    "import TakayaSora as sora\n",
    "\n",
    "sora.edf4csv_folder(\"C:/Users/IRSL27/Documents/GitHub/Rename3/input/edf_data/\")"
   ]
  }
 ],
 "metadata": {
  "kernelspec": {
   "display_name": "Python 3",
   "language": "python",
   "name": "python3"
  },
  "language_info": {
   "codemirror_mode": {
    "name": "ipython",
    "version": 3
   },
   "file_extension": ".py",
   "mimetype": "text/x-python",
   "name": "python",
   "nbconvert_exporter": "python",
   "pygments_lexer": "ipython3",
   "version": "3.7.9"
  },
  "orig_nbformat": 4
 },
 "nbformat": 4,
 "nbformat_minor": 2
}
