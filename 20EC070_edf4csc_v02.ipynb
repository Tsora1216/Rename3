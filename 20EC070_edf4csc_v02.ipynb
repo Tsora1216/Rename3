{
 "cells": [
  {
   "cell_type": "code",
   "execution_count": 12,
   "metadata": {},
   "outputs": [
    {
     "name": "stdout",
     "output_type": "stream",
     "text": [
      "Requirement already satisfied: pyedflib in c:\\users\\irsl27\\appdata\\local\\programs\\python\\python37\\lib\\site-packages (0.1.32)\n",
      "Requirement already satisfied: numpy>=1.9.1 in c:\\users\\irsl27\\appdata\\local\\programs\\python\\python37\\lib\\site-packages (from pyedflib) (1.21.6)\n"
     ]
    }
   ],
   "source": [
    "!pip install pyedflib"
   ]
  },
  {
   "cell_type": "code",
   "execution_count": 13,
   "metadata": {},
   "outputs": [],
   "source": [
    "import numpy as np\n",
    "import pyedflib\n",
    "import matplotlib.pyplot as plt\n"
   ]
  },
  {
   "cell_type": "code",
   "execution_count": 18,
   "metadata": {},
   "outputs": [],
   "source": [
    "path = \"./input/edf_data/da0649f-PSG.edf\"\n",
    "\n",
    "edf = pyedflib.EdfReader(path)\n"
   ]
  },
  {
   "cell_type": "code",
   "execution_count": 19,
   "metadata": {},
   "outputs": [
    {
     "name": "stdout",
     "output_type": "stream",
     "text": [
      "['EEG Fpz-Cz', 'EEG Pz-Oz', 'EOG horizontal', 'Resp oro-nasal', 'EMG submental', 'Temp rectal', 'Event marker']\n"
     ]
    }
   ],
   "source": [
    "labels = edf.getSignalLabels()\n",
    "print(labels)\n"
   ]
  },
  {
   "cell_type": "code",
   "execution_count": 22,
   "metadata": {},
   "outputs": [
    {
     "name": "stdout",
     "output_type": "stream",
     "text": [
      "Duaration:84000\n",
      "Freq.:[100. 100. 100.   1.   1.   1.   1.]\n",
      "N-Sample(=Freq x Duaration):[8400000 8400000 8400000   84000   84000   84000   84000]\n",
      "Date:1991-11-27 15:15:00\n"
     ]
    }
   ],
   "source": [
    "print(\"Duaration:\"+str(edf.getFileDuration()))\n",
    "print(\"Freq.:\"+str(edf.getSampleFrequencies()))\n",
    "print(\"N-Sample(=Freq x Duaration):\"+str(edf.getNSamples()))\n",
    "print(\"Date:\"+str(edf.getStartdatetime()))\n"
   ]
  },
  {
   "cell_type": "code",
   "execution_count": 27,
   "metadata": {},
   "outputs": [
    {
     "name": "stdout",
     "output_type": "stream",
     "text": [
      "read -1, less than 8400000 requested!!!\n"
     ]
    },
    {
     "data": {
      "image/png": "[encoded data removed]",
      "text/plain": [
       "<Figure size 640x480 with 1 Axes>"
      ]
     },
     "metadata": {},
     "output_type": "display_data"
    }
   ],
   "source": [
    "plt.plot(edf.readSignal(0)[0:84000],label=labels[0])\n",
    "plt.legend()\n",
    "plt.show()"
   ]
  }
 ],
 "metadata": {
  "kernelspec": {
   "display_name": "Python 3",
   "language": "python",
   "name": "python3"
  },
  "language_info": {
   "codemirror_mode": {
    "name": "ipython",
    "version": 3
   },
   "file_extension": ".py",
   "mimetype": "text/x-python",
   "name": "python",
   "nbconvert_exporter": "python",
   "pygments_lexer": "ipython3",
   "version": "3.7.9"
  },
  "orig_nbformat": 4
 },
 "nbformat": 4,
 "nbformat_minor": 2
}
